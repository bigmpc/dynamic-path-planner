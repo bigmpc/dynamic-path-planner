{
 "cells": [
  {
   "cell_type": "code",
   "execution_count": 1,
   "id": "35dea131",
   "metadata": {},
   "outputs": [
    {
     "name": "stdout",
     "output_type": "stream",
     "text": [
      "CMakeLists.txt  main.py    \u001b[0m\u001b[01;34moutput\u001b[0m/      Untitled.ipynb    waypoints.pickle\r\n",
      "\u001b[01;34mimages\u001b[0m/         o1.pickle  package.xml  \u001b[01;34murdf\u001b[0m/             \u001b[01;34mworlds\u001b[0m/\r\n",
      "\u001b[01;34mlaunch\u001b[0m/         o2.pickle  README.md    \u001b[01;34mutils\u001b[0m/\r\n",
      "LICENSE         o3.pickle  \u001b[01;34mscripts\u001b[0m/     \u001b[01;35mvideo_output.avi\u001b[0m\r\n"
     ]
    }
   ],
   "source": [
    "%ls"
   ]
  },
  {
   "cell_type": "code",
   "execution_count": 10,
   "id": "24ac39d7",
   "metadata": {},
   "outputs": [],
   "source": [
    "import pickle\n",
    "for file_name in ['o1', 'o2', 'o3', 'waypoints']:\n",
    "    with open(f'./{file_name}.pickle', 'rb') as pickle_file:     state_action = pickle.load(pickle_file);\n",
    "\n",
    "    with open(f'{file_name}-pv2.pickle', 'wb') as pickle_file:\n",
    "        pickle.dump(state_action, pickle_file, protocol=2)\n",
    "    "
   ]
  },
  {
   "cell_type": "code",
   "execution_count": 9,
   "id": "d963e6aa",
   "metadata": {},
   "outputs": [
    {
     "name": "stdout",
     "output_type": "stream",
     "text": [
      "CMakeLists.txt  o12.pickle  o3.pickle    Untitled.ipynb     waypoints.pickle\r\n",
      "\u001b[0m\u001b[01;34mimages\u001b[0m/         o1.pickle   \u001b[01;34moutput\u001b[0m/      \u001b[01;34murdf\u001b[0m/              \u001b[01;34mworlds\u001b[0m/\r\n",
      "\u001b[01;34mlaunch\u001b[0m/         o22.pickle  package.xml  \u001b[01;34mutils\u001b[0m/\r\n",
      "LICENSE         o2.pickle   README.md    \u001b[01;35mvideo_output.avi\u001b[0m\r\n",
      "main.py         o32.pickle  \u001b[01;34mscripts\u001b[0m/     waypoints2.pickle\r\n"
     ]
    }
   ],
   "source": [
    "%ls"
   ]
  },
  {
   "cell_type": "code",
   "execution_count": null,
   "id": "284bcca3",
   "metadata": {},
   "outputs": [],
   "source": []
  }
 ],
 "metadata": {
  "kernelspec": {
   "display_name": "Python 3",
   "language": "python",
   "name": "python3"
  },
  "language_info": {
   "codemirror_mode": {
    "name": "ipython",
    "version": 3
   },
   "file_extension": ".py",
   "mimetype": "text/x-python",
   "name": "python",
   "nbconvert_exporter": "python",
   "pygments_lexer": "ipython3",
   "version": "3.6.9"
  }
 },
 "nbformat": 4,
 "nbformat_minor": 5
}
